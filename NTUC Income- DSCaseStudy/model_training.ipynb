{
 "cells": [
  {
   "cell_type": "markdown",
   "id": "c156ff8c",
   "metadata": {},
   "source": [
    "# Setting up notebook"
   ]
  },
  {
   "cell_type": "code",
   "execution_count": null,
   "id": "6e715cd9",
   "metadata": {
    "ExecuteTime": {
     "end_time": "2022-02-13T17:23:12.086967Z",
     "start_time": "2022-02-13T17:23:11.299148Z"
    }
   },
   "outputs": [],
   "source": [
    "import os, sys, logging, datetime, math\n",
    "import numpy as np, pandas as pd\n",
    "import matplotlib.pyplot as plt\n",
    "import seaborn as sns\n",
    "from IPython.core.display import display, HTML\n",
    "display(HTML(\"<style>.container { width:80% !important; }</style>\"))\n",
    "\n",
    "from sklearn.feature_selection import SelectKBest\n",
    "from sklearn.feature_selection import mutual_info_classif\n",
    "from scipy.stats import zscore\n",
    "\n",
    "# adding module directory to path\n",
    "modules_path = os.path.join(os.getcwd(),'modules')\n",
    "sys.path.insert(0, modules_path)\n",
    "\n",
    "from config_handler import ConfigHandling\n",
    "from data_handler import DataHandling\n",
    "# from feature_handler import FeatureHandling\n",
    "from model_handler import ModelHandling"
   ]
  },
  {
   "cell_type": "code",
   "execution_count": null,
   "id": "758e9084",
   "metadata": {
    "ExecuteTime": {
     "end_time": "2022-02-13T17:23:12.090065Z",
     "start_time": "2022-02-13T17:23:12.087989Z"
    }
   },
   "outputs": [],
   "source": [
    "cfg = ConfigHandling(job_directory = os.getcwd(), config_filename='config.json')"
   ]
  },
  {
   "cell_type": "markdown",
   "id": "34f6ab14",
   "metadata": {},
   "source": [
    "# Define helper functions"
   ]
  },
  {
   "cell_type": "code",
   "execution_count": null,
   "id": "a7c24ee5",
   "metadata": {
    "ExecuteTime": {
     "end_time": "2022-02-13T17:23:12.143956Z",
     "start_time": "2022-02-13T17:23:12.141399Z"
    }
   },
   "outputs": [],
   "source": [
    "def plot_feature_importance(df):\n",
    "    df = df.sort_values('feature_importance', ascending=False)\n",
    "    plt.figure(figsize=(6, 0.3*len(df)))\n",
    "    sns.barplot(data=df[:10], y='feature', x='feature_importance', orient='h')"
   ]
  },
  {
   "cell_type": "markdown",
   "id": "ce188d61",
   "metadata": {},
   "source": [
    "# Get training and prediction (test) data\n",
    "- Output:\n",
    "    - Training: 80% of provided training data from train.csv\n",
    "    - Test: 20% of provided training data from train.csv\n",
    "    - For the purposes of the case study and due to the fact that there is only 1 continuous variable, no outlier removal due to the nature of the but noted that in production will have steps to remove outliers."
   ]
  },
  {
   "cell_type": "code",
   "execution_count": null,
   "id": "39ca127c",
   "metadata": {
    "ExecuteTime": {
     "end_time": "2022-02-13T17:23:49.960776Z",
     "start_time": "2022-02-13T17:23:49.339381Z"
    }
   },
   "outputs": [],
   "source": [
    "data = DataHandling(cfg)\n",
    "\n",
    "data_full = data.read_data(dataset='train_clean')\n",
    "data_submission = data.read_data(dataset='test_clean')"
   ]
  },
  {
   "cell_type": "code",
   "execution_count": null,
   "id": "3ff5328b",
   "metadata": {
    "ExecuteTime": {
     "end_time": "2022-02-13T17:23:50.001376Z",
     "start_time": "2022-02-13T17:23:49.961938Z"
    }
   },
   "outputs": [],
   "source": [
    "categorical_column = [\n",
    "    'gender_binary', \n",
    "    'driving_license', \n",
    "    'previously_insured',\n",
    "    'vehicle_damage_binary'\n",
    "]\n",
    "\n",
    "matchers = ['policy_sales_channel_','region_code_', 'vehicle_age_']\n",
    "ohe_column = [\n",
    "    s for s in data_full.columns if any(xs in s for xs in matchers)\n",
    "]\n",
    "\n",
    "numeric_column = [\n",
    "    \"age\", \"annual_premium\", 'days_since_insured'\n",
    "]\n",
    "\n",
    "features = categorical_column + ohe_column + numeric_column\n",
    "\n",
    "target_column = ['response']\n",
    "\n",
    "id_column = data_submission['cust_id']\n",
    "\n",
    "# Reorder columns\n",
    "data_full = data_full[features + target_column]\n",
    "data_submission = data_submission[features]"
   ]
  },
  {
   "cell_type": "code",
   "execution_count": null,
   "id": "fcd3767e",
   "metadata": {
    "ExecuteTime": {
     "end_time": "2022-02-13T17:24:06.043815Z",
     "start_time": "2022-02-13T17:24:04.939900Z"
    }
   },
   "outputs": [],
   "source": [
    "model = ModelHandling()\n",
    "\n",
    "X_tr, X_tt, y_tr, y_tt = model.train_test_split(data_full[features], data_full[target_column])"
   ]
  },
  {
   "cell_type": "markdown",
   "id": "93b45541",
   "metadata": {},
   "source": [
    "# Fitting on Training Data"
   ]
  },
  {
   "cell_type": "code",
   "execution_count": null,
   "id": "c0057520",
   "metadata": {
    "ExecuteTime": {
     "end_time": "2022-02-13T17:24:06.046417Z",
     "start_time": "2022-02-13T17:24:06.045038Z"
    }
   },
   "outputs": [],
   "source": [
    "# For model training - latest model has been stored in the model directory.\n",
    "\n",
    "# trained_model = model.fit(X_tr, y_tr)"
   ]
  },
  {
   "cell_type": "code",
   "execution_count": null,
   "id": "d859e37f",
   "metadata": {
    "ExecuteTime": {
     "end_time": "2022-02-13T17:25:06.921718Z",
     "start_time": "2022-02-13T17:24:06.047808Z"
    }
   },
   "outputs": [],
   "source": [
    "trained_model = model.load_model('model/model_v1.pck')\n",
    "\n",
    "result_train = trained_model.predict(X_tr)\n",
    "result_train_proba = trained_model.predict_proba(X_tr)[:, 1]"
   ]
  },
  {
   "cell_type": "code",
   "execution_count": null,
   "id": "f5ed60b1",
   "metadata": {
    "ExecuteTime": {
     "end_time": "2022-02-13T17:25:07.191456Z",
     "start_time": "2022-02-13T17:25:06.923351Z"
    }
   },
   "outputs": [],
   "source": [
    "train_accuracy, train_precision, train_recall, train_f1, train_roc_auc = model.eval_results(y_tr, result_train, result_train_proba)\n",
    "\n",
    "print(f\"In sample accuracy: {train_accuracy}\\nIn sample precision: {train_precision}\\nIn sample recall: {train_recall}\\nIn sample f1: {train_f1}\\nIn sample roc auc: {train_roc_auc}\")"
   ]
  },
  {
   "cell_type": "code",
   "execution_count": null,
   "id": "1784787f",
   "metadata": {
    "ExecuteTime": {
     "end_time": "2022-02-13T17:25:07.194535Z",
     "start_time": "2022-02-13T17:25:07.192796Z"
    }
   },
   "outputs": [],
   "source": [
    "# To save the model if required\n",
    "\n",
    "# model.save_model(trained_model, 'model/model_v1.pck')"
   ]
  },
  {
   "cell_type": "markdown",
   "id": "281c6d78",
   "metadata": {},
   "source": [
    "# Evaluating on Test Data"
   ]
  },
  {
   "cell_type": "code",
   "execution_count": null,
   "id": "260ff786",
   "metadata": {
    "ExecuteTime": {
     "end_time": "2022-02-13T17:25:22.711553Z",
     "start_time": "2022-02-13T17:25:07.195535Z"
    }
   },
   "outputs": [],
   "source": [
    "result_test = trained_model.predict(X_tt)\n",
    "result_test_proba = trained_model.predict_proba(X_tt)[:, 1]\n",
    "test_accuracy, test_precision, test_recall, test_f1, test_roc_auc = model.eval_results(y_tt, result_test, result_test_proba)\n",
    "print(f\"Out sample accuracy: {test_accuracy}\\nOut sample precision: {test_precision}\\nOut sample recall: {test_recall}\\nOut sample f1: {test_f1}\\nOut sample roc auc: {test_roc_auc}\")"
   ]
  },
  {
   "cell_type": "markdown",
   "id": "57677b41",
   "metadata": {},
   "source": [
    "# Retraining model on full data"
   ]
  },
  {
   "cell_type": "code",
   "execution_count": null,
   "id": "40da6c02",
   "metadata": {
    "ExecuteTime": {
     "end_time": "2022-02-13T17:26:13.562100Z",
     "start_time": "2022-02-13T17:25:22.713153Z"
    }
   },
   "outputs": [],
   "source": [
    "full_model = model.fit(data_full[features], data_full[target_column])"
   ]
  },
  {
   "cell_type": "code",
   "execution_count": null,
   "id": "c48df7d4",
   "metadata": {
    "ExecuteTime": {
     "end_time": "2022-02-13T17:26:13.741725Z",
     "start_time": "2022-02-13T17:26:13.563290Z"
    }
   },
   "outputs": [],
   "source": [
    "fs = full_model.feature_importance()\n",
    "plot_feature_importance(fs)"
   ]
  },
  {
   "cell_type": "markdown",
   "id": "fc3d04b6",
   "metadata": {},
   "source": [
    "# Predicting Submission data"
   ]
  },
  {
   "cell_type": "code",
   "execution_count": null,
   "id": "7ae35401",
   "metadata": {
    "ExecuteTime": {
     "end_time": "2022-02-13T17:26:21.626538Z",
     "start_time": "2022-02-13T17:26:13.742694Z"
    }
   },
   "outputs": [],
   "source": [
    "result_submission_proba = trained_model.predict_proba(data_submission)[:, 1]"
   ]
  },
  {
   "cell_type": "code",
   "execution_count": null,
   "id": "6f8f1458",
   "metadata": {
    "ExecuteTime": {
     "end_time": "2022-02-13T17:27:25.684103Z",
     "start_time": "2022-02-13T17:27:25.467408Z"
    }
   },
   "outputs": [],
   "source": [
    "submission_data = pd.DataFrame({\n",
    "    'cust_id': id_column,\n",
    "    'propensity': result_submission_proba\n",
    "})\n",
    "\n",
    "submission_data.to_csv('data/submission_data.csv', index=False)"
   ]
  },
  {
   "cell_type": "markdown",
   "id": "86d631e1",
   "metadata": {},
   "source": [
    "# Comparison with Rule Based system\n",
    "- From an underwriting perspective:\n",
    "    - Renew if (1) no previous vehicle damage and (2) have previous vehicle damage but is previously insured"
   ]
  },
  {
   "cell_type": "code",
   "execution_count": null,
   "id": "d1cb8956",
   "metadata": {
    "ExecuteTime": {
     "end_time": "2022-02-13T17:27:32.497327Z",
     "start_time": "2022-02-13T17:27:32.464704Z"
    }
   },
   "outputs": [],
   "source": [
    "data_comparison = X_tt.copy()\n",
    "data_comparison['response'] = y_tt\n",
    "data_comparison['response_gb'] = result_test\n",
    "data_comparison['response_gb_prob'] = result_test_proba\n",
    "\n",
    "data_comparison['response_uw'] = 0\n",
    "data_comparison['response_uw'][(data_comparison['vehicle_damage_binary']==1) & (data_comparison['previously_insured']==1)] = 1\n",
    "data_comparison['response_uw_prob'] = 1 # placeholder as there is no probability"
   ]
  },
  {
   "cell_type": "code",
   "execution_count": null,
   "id": "c6014e88",
   "metadata": {
    "ExecuteTime": {
     "end_time": "2022-02-13T17:27:33.090674Z",
     "start_time": "2022-02-13T17:27:33.004486Z"
    }
   },
   "outputs": [],
   "source": [
    "uw_accuracy, uw_precision, uw_recall, uw_f1, uw_roc_auc  = model.eval_results(y_tt, data_comparison['response_uw'], data_comparison['response_uw_prob'])\n",
    "print(f\"Out sample accuracy: {uw_accuracy}\\nOut sample precision: {uw_precision}\\nOut sample recall: {uw_recall}\\nOut sample f1: {uw_f1}\\nOut sample roc auc: {uw_roc_auc}\")"
   ]
  },
  {
   "cell_type": "code",
   "execution_count": null,
   "id": "2cbe1035",
   "metadata": {
    "ExecuteTime": {
     "end_time": "2022-02-13T17:27:33.588602Z",
     "start_time": "2022-02-13T17:27:33.495809Z"
    }
   },
   "outputs": [],
   "source": [
    "gb_accuracy, gb_precision, gb_recall, gb_f1, gb_roc_auc = model.eval_results(y_tt, data_comparison['response_gb'], data_comparison['response_gb_prob'])\n",
    "print(f\"Out sample accuracy: {gb_accuracy}\\nOut sample precision: {gb_precision}\\nOut sample recall: {gb_recall}\\nOut sample f1: {gb_f1}\\nOut sample roc auc: {gb_roc_auc}\")"
   ]
  },
  {
   "cell_type": "markdown",
   "id": "627da4aa",
   "metadata": {},
   "source": [
    "# Additional Steps"
   ]
  },
  {
   "cell_type": "markdown",
   "id": "e26bb123",
   "metadata": {},
   "source": [
    "## Getting Cross Validation Scores"
   ]
  },
  {
   "cell_type": "code",
   "execution_count": null,
   "id": "148722cd",
   "metadata": {
    "ExecuteTime": {
     "end_time": "2022-02-13T13:21:23.074382Z",
     "start_time": "2022-02-13T13:21:23.073049Z"
    }
   },
   "outputs": [],
   "source": [
    "# eval_means, eval_mins, eval_maxs = model.cross_val(X_tr, y_tr, 'precision')"
   ]
  },
  {
   "cell_type": "code",
   "execution_count": null,
   "id": "ad59970b",
   "metadata": {
    "ExecuteTime": {
     "end_time": "2022-02-13T13:21:23.076451Z",
     "start_time": "2022-02-13T13:21:23.075184Z"
    }
   },
   "outputs": [],
   "source": [
    "# print(f\"CV mean score: {eval_means} | Max score: {eval_maxs} | Min score: {eval_mins}\")"
   ]
  }
 ],
 "metadata": {
  "kernelspec": {
   "display_name": "Python 3",
   "language": "python",
   "name": "python3"
  },
  "language_info": {
   "codemirror_mode": {
    "name": "ipython",
    "version": 3
   },
   "file_extension": ".py",
   "mimetype": "text/x-python",
   "name": "python",
   "nbconvert_exporter": "python",
   "pygments_lexer": "ipython3",
   "version": "3.8.8"
  },
  "toc": {
   "base_numbering": 1,
   "nav_menu": {},
   "number_sections": true,
   "sideBar": true,
   "skip_h1_title": false,
   "title_cell": "Table of Contents",
   "title_sidebar": "Contents",
   "toc_cell": false,
   "toc_position": {},
   "toc_section_display": true,
   "toc_window_display": false
  }
 },
 "nbformat": 4,
 "nbformat_minor": 5
}
